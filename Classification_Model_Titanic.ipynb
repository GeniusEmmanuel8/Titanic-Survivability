{
 "cells": [
  {
   "cell_type": "code",
   "execution_count": 308,
   "id": "ae124ed7",
   "metadata": {},
   "outputs": [],
   "source": [
    "# Data Processing\n",
    "import pandas as pd\n",
    "import numpy as np\n",
    "\n",
    "# Modelling\n",
    "from sklearn.ensemble import RandomForestClassifier\n",
    "from sklearn.metrics import accuracy_score, confusion_matrix, precision_score, recall_score, ConfusionMatrixDisplay\n",
    "from sklearn.model_selection import RandomizedSearchCV, train_test_split, cross_val_score\n",
    "from scipy.stats import randint\n"
   ]
  },
  {
   "cell_type": "markdown",
   "id": "e519ab1c",
   "metadata": {},
   "source": [
    "Load the training dataset"
   ]
  },
  {
   "cell_type": "code",
   "execution_count": 277,
   "id": "98e47a20",
   "metadata": {},
   "outputs": [
    {
     "name": "stdout",
     "output_type": "stream",
     "text": [
      "     PassengerId  Survived  Pclass  \\\n",
      "0              1         0       3   \n",
      "1              2         1       1   \n",
      "2              3         1       3   \n",
      "3              4         1       1   \n",
      "4              5         0       3   \n",
      "..           ...       ...     ...   \n",
      "886          887         0       2   \n",
      "887          888         1       1   \n",
      "888          889         0       3   \n",
      "889          890         1       1   \n",
      "890          891         0       3   \n",
      "\n",
      "                                                  Name     Sex   Age  SibSp  \\\n",
      "0                              Braund, Mr. Owen Harris    male  22.0      1   \n",
      "1    Cumings, Mrs. John Bradley (Florence Briggs Th...  female  38.0      1   \n",
      "2                               Heikkinen, Miss. Laina  female  26.0      0   \n",
      "3         Futrelle, Mrs. Jacques Heath (Lily May Peel)  female  35.0      1   \n",
      "4                             Allen, Mr. William Henry    male  35.0      0   \n",
      "..                                                 ...     ...   ...    ...   \n",
      "886                              Montvila, Rev. Juozas    male  27.0      0   \n",
      "887                       Graham, Miss. Margaret Edith  female  19.0      0   \n",
      "888           Johnston, Miss. Catherine Helen \"Carrie\"  female   NaN      1   \n",
      "889                              Behr, Mr. Karl Howell    male  26.0      0   \n",
      "890                                Dooley, Mr. Patrick    male  32.0      0   \n",
      "\n",
      "     Parch            Ticket     Fare Cabin Embarked  \n",
      "0        0         A/5 21171   7.2500   NaN        S  \n",
      "1        0          PC 17599  71.2833   C85        C  \n",
      "2        0  STON/O2. 3101282   7.9250   NaN        S  \n",
      "3        0            113803  53.1000  C123        S  \n",
      "4        0            373450   8.0500   NaN        S  \n",
      "..     ...               ...      ...   ...      ...  \n",
      "886      0            211536  13.0000   NaN        S  \n",
      "887      0            112053  30.0000   B42        S  \n",
      "888      2        W./C. 6607  23.4500   NaN        S  \n",
      "889      0            111369  30.0000  C148        C  \n",
      "890      0            370376   7.7500   NaN        Q  \n",
      "\n",
      "[891 rows x 12 columns]\n"
     ]
    }
   ],
   "source": [
    "tr = pd.read_csv('train.csv')\n",
    "print(tr)"
   ]
  },
  {
   "cell_type": "markdown",
   "id": "be952be7",
   "metadata": {},
   "source": [
    "Load the test dataset"
   ]
  },
  {
   "cell_type": "code",
   "execution_count": 278,
   "id": "7b49cf20",
   "metadata": {},
   "outputs": [
    {
     "name": "stdout",
     "output_type": "stream",
     "text": [
      "     PassengerId  Pclass                                          Name  \\\n",
      "0            892       3                              Kelly, Mr. James   \n",
      "1            893       3              Wilkes, Mrs. James (Ellen Needs)   \n",
      "2            894       2                     Myles, Mr. Thomas Francis   \n",
      "3            895       3                              Wirz, Mr. Albert   \n",
      "4            896       3  Hirvonen, Mrs. Alexander (Helga E Lindqvist)   \n",
      "..           ...     ...                                           ...   \n",
      "413         1305       3                            Spector, Mr. Woolf   \n",
      "414         1306       1                  Oliva y Ocana, Dona. Fermina   \n",
      "415         1307       3                  Saether, Mr. Simon Sivertsen   \n",
      "416         1308       3                           Ware, Mr. Frederick   \n",
      "417         1309       3                      Peter, Master. Michael J   \n",
      "\n",
      "        Sex   Age  SibSp  Parch              Ticket      Fare Cabin Embarked  \n",
      "0      male  34.5      0      0              330911    7.8292   NaN        Q  \n",
      "1    female  47.0      1      0              363272    7.0000   NaN        S  \n",
      "2      male  62.0      0      0              240276    9.6875   NaN        Q  \n",
      "3      male  27.0      0      0              315154    8.6625   NaN        S  \n",
      "4    female  22.0      1      1             3101298   12.2875   NaN        S  \n",
      "..      ...   ...    ...    ...                 ...       ...   ...      ...  \n",
      "413    male   NaN      0      0           A.5. 3236    8.0500   NaN        S  \n",
      "414  female  39.0      0      0            PC 17758  108.9000  C105        C  \n",
      "415    male  38.5      0      0  SOTON/O.Q. 3101262    7.2500   NaN        S  \n",
      "416    male   NaN      0      0              359309    8.0500   NaN        S  \n",
      "417    male   NaN      1      1                2668   22.3583   NaN        C  \n",
      "\n",
      "[418 rows x 11 columns]\n"
     ]
    }
   ],
   "source": [
    "te = pd.read_csv('test.csv')\n",
    "print(te)"
   ]
  },
  {
   "cell_type": "markdown",
   "id": "a3e4b955",
   "metadata": {},
   "source": [
    "Print the columns in the training set so we can identify what columns are going to be useful for this "
   ]
  },
  {
   "cell_type": "code",
   "execution_count": 279,
   "id": "977ae320",
   "metadata": {},
   "outputs": [
    {
     "data": {
      "text/plain": [
       "Index(['PassengerId', 'Survived', 'Pclass', 'Name', 'Sex', 'Age', 'SibSp',\n",
       "       'Parch', 'Ticket', 'Fare', 'Cabin', 'Embarked'],\n",
       "      dtype='object')"
      ]
     },
     "execution_count": 279,
     "metadata": {},
     "output_type": "execute_result"
    }
   ],
   "source": [
    "tr.columns"
   ]
  },
  {
   "cell_type": "markdown",
   "id": "8d8d0104",
   "metadata": {},
   "source": [
    "Print the columns in the test set so we can identify what columns it has in common with the training set for further evaluation"
   ]
  },
  {
   "cell_type": "code",
   "execution_count": 280,
   "id": "9cef9e17",
   "metadata": {},
   "outputs": [
    {
     "data": {
      "text/plain": [
       "Index(['PassengerId', 'Pclass', 'Name', 'Sex', 'Age', 'SibSp', 'Parch',\n",
       "       'Ticket', 'Fare', 'Cabin', 'Embarked'],\n",
       "      dtype='object')"
      ]
     },
     "execution_count": 280,
     "metadata": {},
     "output_type": "execute_result"
    }
   ],
   "source": [
    "te.columns"
   ]
  },
  {
   "cell_type": "markdown",
   "id": "4ef0dbaa",
   "metadata": {},
   "source": [
    "Problem 1: I ran into a problem a bit earlier where i had a lot of missing values in my training and test set, so i filled the missing values in the Age column in the training set with the median age by economic class and Sex. \n"
   ]
  },
  {
   "cell_type": "code",
   "execution_count": 283,
   "id": "bc150352",
   "metadata": {},
   "outputs": [],
   "source": [
    "# Fill missing values with the median age grouped by 'Pclass' and 'Sex'\n",
    "tr['Age'] = tr.groupby(['Pclass', 'Sex'])['Age'].apply(lambda x: x.fillna(x.median()))"
   ]
  },
  {
   "cell_type": "code",
   "execution_count": 284,
   "id": "b263969d",
   "metadata": {},
   "outputs": [
    {
     "name": "stdout",
     "output_type": "stream",
     "text": [
      "['male' 'female']\n"
     ]
    }
   ],
   "source": [
    "# Clean the 'Sex' column\n",
    "tr['Sex'] = tr['Sex'].str.strip().str.lower()\n",
    "\n",
    "# Check unique values again\n",
    "print(tr['Sex'].unique())"
   ]
  },
  {
   "cell_type": "code",
   "execution_count": 285,
   "id": "a47a3f6f",
   "metadata": {},
   "outputs": [
    {
     "name": "stdout",
     "output_type": "stream",
     "text": [
      "['male' 'female']\n"
     ]
    }
   ],
   "source": [
    "# Clean the 'Sex' column\n",
    "te['Sex'] = te['Sex'].str.strip().str.lower()\n",
    "\n",
    "# Check unique values again\n",
    "print(te['Sex'].unique())"
   ]
  },
  {
   "cell_type": "markdown",
   "id": "e9633c14",
   "metadata": {},
   "source": [
    "Problem 2: I ran into another problem where my ml model could not accept a string so i had to convert everything in my Sex columns to 1s and 0s so it would actually work."
   ]
  },
  {
   "cell_type": "code",
   "execution_count": 286,
   "id": "193ac7a6",
   "metadata": {},
   "outputs": [],
   "source": [
    "te['Sex'] = te['Sex'].map({'male': 0, 'female': 1 })"
   ]
  },
  {
   "cell_type": "code",
   "execution_count": 287,
   "id": "d93c58de",
   "metadata": {},
   "outputs": [],
   "source": [
    "tr['Sex'] = tr['Sex'].map({'male': 0, 'female': 1 })"
   ]
  },
  {
   "cell_type": "markdown",
   "id": "93d18e17",
   "metadata": {},
   "source": [
    "Grouped my relevant columns into features and targets. x_train was the features for my training set and y_train was the target for my training set. Then x_test was the features for my test set."
   ]
  },
  {
   "cell_type": "code",
   "execution_count": 288,
   "id": "fc8116af",
   "metadata": {},
   "outputs": [],
   "source": [
    "x_train = tr[['Pclass', 'Sex', 'Age', 'SibSp', 'Parch']]\n",
    "y_train = tr['Survived']"
   ]
  },
  {
   "cell_type": "code",
   "execution_count": 289,
   "id": "48ade17e",
   "metadata": {},
   "outputs": [],
   "source": [
    "x_test = te[['Pclass', 'Sex', 'Age', 'SibSp', 'Parch']]"
   ]
  },
  {
   "cell_type": "markdown",
   "id": "acdf220c",
   "metadata": {},
   "source": [
    "Looked for missing values"
   ]
  },
  {
   "cell_type": "code",
   "execution_count": 290,
   "id": "15d46224",
   "metadata": {},
   "outputs": [
    {
     "name": "stdout",
     "output_type": "stream",
     "text": [
      "Pclass    0\n",
      "Sex       0\n",
      "Age       0\n",
      "SibSp     0\n",
      "Parch     0\n",
      "dtype: int64\n"
     ]
    }
   ],
   "source": [
    "print(x_train.isnull().sum())"
   ]
  },
  {
   "cell_type": "code",
   "execution_count": 256,
   "id": "502ac320",
   "metadata": {},
   "outputs": [
    {
     "name": "stdout",
     "output_type": "stream",
     "text": [
      "Pclass     0\n",
      "Sex        0\n",
      "Age       86\n",
      "SibSp      0\n",
      "Parch      0\n",
      "dtype: int64\n"
     ]
    }
   ],
   "source": [
    "print(x_test.isnull().sum())"
   ]
  },
  {
   "cell_type": "markdown",
   "id": "73d08b09",
   "metadata": {},
   "source": [
    "created an instance of random forest classifier"
   ]
  },
  {
   "cell_type": "code",
   "execution_count": 291,
   "id": "3b5a44a8",
   "metadata": {},
   "outputs": [],
   "source": [
    "rf = RandomForestClassifier()"
   ]
  },
  {
   "cell_type": "markdown",
   "id": "5edd41e8",
   "metadata": {},
   "source": [
    "i used the fit() method to train my model on my training data features and targets"
   ]
  },
  {
   "cell_type": "code",
   "execution_count": 292,
   "id": "3f65f8bd",
   "metadata": {},
   "outputs": [
    {
     "data": {
      "text/plain": [
       "RandomForestClassifier()"
      ]
     },
     "execution_count": 292,
     "metadata": {},
     "output_type": "execute_result"
    }
   ],
   "source": [
    "rf.fit(x_train, y_train)"
   ]
  },
  {
   "cell_type": "markdown",
   "id": "946700da",
   "metadata": {},
   "source": [
    "Checked for more missing data"
   ]
  },
  {
   "cell_type": "code",
   "execution_count": 294,
   "id": "002633df",
   "metadata": {},
   "outputs": [
    {
     "name": "stdout",
     "output_type": "stream",
     "text": [
      "Pclass     0\n",
      "Sex        0\n",
      "Age       86\n",
      "SibSp      0\n",
      "Parch      0\n",
      "dtype: int64\n"
     ]
    }
   ],
   "source": [
    "print(x_test.isnull().sum())"
   ]
  },
  {
   "cell_type": "markdown",
   "id": "a12de854",
   "metadata": {},
   "source": [
    "Since i have some missing data in my age column i put the median of the age in each economic group by age into the missing parts"
   ]
  },
  {
   "cell_type": "code",
   "execution_count": 295,
   "id": "93f7c2be",
   "metadata": {},
   "outputs": [],
   "source": [
    "group_medians = x_train.groupby(['Pclass', 'Sex'])['Age'].median()"
   ]
  },
  {
   "cell_type": "code",
   "execution_count": 296,
   "id": "a7a59b54",
   "metadata": {},
   "outputs": [
    {
     "name": "stderr",
     "output_type": "stream",
     "text": [
      "/var/folders/gn/3q_7jpvx7rb7wtl5ytw77vbc0000gn/T/ipykernel_81624/601323012.py:1: SettingWithCopyWarning: \n",
      "A value is trying to be set on a copy of a slice from a DataFrame.\n",
      "Try using .loc[row_indexer,col_indexer] = value instead\n",
      "\n",
      "See the caveats in the documentation: https://pandas.pydata.org/pandas-docs/stable/user_guide/indexing.html#returning-a-view-versus-a-copy\n",
      "  x_test['Age'] = x_test.groupby(['Pclass', 'Sex'])['Age'].transform(lambda x: x.fillna(group_medians[x.name]))\n"
     ]
    }
   ],
   "source": [
    "x_test['Age'] = x_test.groupby(['Pclass', 'Sex'])['Age'].transform(lambda x: x.fillna(group_medians[x.name]))"
   ]
  },
  {
   "cell_type": "code",
   "execution_count": 297,
   "id": "2581823b",
   "metadata": {},
   "outputs": [
    {
     "name": "stdout",
     "output_type": "stream",
     "text": [
      "Pclass    0\n",
      "Sex       0\n",
      "Age       0\n",
      "SibSp     0\n",
      "Parch     0\n",
      "dtype: int64\n"
     ]
    }
   ],
   "source": [
    "print(x_test.isnull().sum())"
   ]
  },
  {
   "cell_type": "markdown",
   "id": "1a76daa2",
   "metadata": {},
   "source": [
    "Used the cross valuation score to assess its accuracy, i used 5 scores and found the average of those scores so i can reduce variance"
   ]
  },
  {
   "cell_type": "code",
   "execution_count": 298,
   "id": "81d30c3d",
   "metadata": {},
   "outputs": [],
   "source": [
    "cv_scores = cross_val_score(rf, x_train, y_train, cv = 5, scoring = 'accuracy')"
   ]
  },
  {
   "cell_type": "code",
   "execution_count": 299,
   "id": "967d95cd",
   "metadata": {},
   "outputs": [
    {
     "name": "stdout",
     "output_type": "stream",
     "text": [
      "Cross-Validation Accuracy Scores: [0.77653631 0.81460674 0.83146067 0.80898876 0.83146067]\n",
      "Mean CV Accuracy: 0.8126106333563493\n"
     ]
    }
   ],
   "source": [
    "print(\"Cross-Validation Accuracy Scores:\", cv_scores)\n",
    "print(\"Mean CV Accuracy:\", cv_scores.mean())"
   ]
  },
  {
   "cell_type": "markdown",
   "id": "601f54d1",
   "metadata": {},
   "source": [
    "next i predicted the people that survived based on the trained model using the random forest classifier. "
   ]
  },
  {
   "cell_type": "code",
   "execution_count": 302,
   "id": "8fbc8e96",
   "metadata": {},
   "outputs": [],
   "source": [
    "y_pred = rf.predict(x_test)"
   ]
  },
  {
   "cell_type": "markdown",
   "id": "1a9e9bd4",
   "metadata": {},
   "source": [
    "then i saved the results to a dataframe called submission"
   ]
  },
  {
   "cell_type": "code",
   "execution_count": 303,
   "id": "ccbeb44f",
   "metadata": {},
   "outputs": [],
   "source": [
    "submission = pd.DataFrame({\n",
    "    'PassengerId': te['PassengerId'],  # Assuming 'PassengerId' is in the test set\n",
    "    'Survived': y_pred\n",
    "})\n",
    "\n",
    "submission.to_csv('submission.csv', index=False)"
   ]
  },
  {
   "cell_type": "markdown",
   "id": "a7194f52",
   "metadata": {},
   "source": [
    "Then i printed the submission just to check on it."
   ]
  },
  {
   "cell_type": "code",
   "execution_count": 307,
   "id": "c0aafa3c",
   "metadata": {},
   "outputs": [
    {
     "name": "stdout",
     "output_type": "stream",
     "text": [
      "     PassengerId  Survived\n",
      "0            892         0\n",
      "1            893         0\n",
      "2            894         1\n",
      "3            895         1\n",
      "4            896         1\n",
      "..           ...       ...\n",
      "413         1305         0\n",
      "414         1306         1\n",
      "415         1307         0\n",
      "416         1308         0\n",
      "417         1309         1\n",
      "\n",
      "[418 rows x 2 columns]\n"
     ]
    }
   ],
   "source": [
    "subs = pd.read_csv('submission.csv')\n",
    "print(subs)"
   ]
  }
 ],
 "metadata": {
  "kernelspec": {
   "display_name": "Python 3 (ipykernel)",
   "language": "python",
   "name": "python3"
  },
  "language_info": {
   "codemirror_mode": {
    "name": "ipython",
    "version": 3
   },
   "file_extension": ".py",
   "mimetype": "text/x-python",
   "name": "python",
   "nbconvert_exporter": "python",
   "pygments_lexer": "ipython3",
   "version": "3.9.12"
  }
 },
 "nbformat": 4,
 "nbformat_minor": 5
}
